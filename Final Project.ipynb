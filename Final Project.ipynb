{
 "cells": [
  {
   "cell_type": "markdown",
   "id": "40880a08",
   "metadata": {},
   "source": [
    "# Question 1"
   ]
  },
  {
   "cell_type": "code",
   "execution_count": 1,
   "id": "0758fd50",
   "metadata": {},
   "outputs": [
    {
     "name": "stdout",
     "output_type": "stream",
     "text": [
      "Length of the shortest common superstring: 17\n",
      "Number of different shortest common superstrings: 1\n"
     ]
    }
   ],
   "source": [
    "def find_overlap(s1, s2):\n",
    "    max_overlap = min(len(s1), len(s2))\n",
    "    for i in range(max_overlap, 0, -1):\n",
    "        if s1.endswith(s2[:i]):\n",
    "            return s1 + s2[i:]\n",
    "    return s1 + s2\n",
    "\n",
    "def find_shortest_common_superstring(strings):\n",
    "    while len(strings) > 1:\n",
    "        max_overlap_len = 0\n",
    "        scs_pair = (0, 1)\n",
    "\n",
    "        for i in range(len(strings)):\n",
    "            for j in range(i + 1, len(strings)):\n",
    "                overlap = find_overlap(strings[i], strings[j])\n",
    "                if len(overlap) > max_overlap_len:\n",
    "                    max_overlap_len = len(overlap)\n",
    "                    scs_pair = (i, j)\n",
    "\n",
    "        i, j = scs_pair\n",
    "        strings[i] = find_overlap(strings[i], strings[j])\n",
    "        strings.pop(j)\n",
    "\n",
    "    return strings[0]\n",
    "\n",
    "input_strings = [\"CCT\", \"CTT\", \"TGC\", \"TGG\", \"GAT\", \"ATT\"]\n",
    "shortest_common_superstring = find_shortest_common_superstring(input_strings)\n",
    "\n",
    "# Count different shortest common superstrings\n",
    "count_different_scs = input_strings.count(shortest_common_superstring)\n",
    "\n",
    "print(\"Length of the shortest common superstring:\", len(shortest_common_superstring))\n",
    "print(\"Number of different shortest common superstrings:\", count_different_scs)\n"
   ]
  },
  {
   "cell_type": "code",
   "execution_count": 2,
   "id": "d690c69d",
   "metadata": {},
   "outputs": [
    {
     "name": "stdout",
     "output_type": "stream",
     "text": [
      "Overlap Graph:\n",
      "{'CT': ['CTG', 'CTT', 'CTG'], 'TG': ['TGA', 'TGC', 'TGG'], 'GA': ['GAT'], 'AT': ['ATC', 'ATT'], 'TC': ['TCT'], 'TT': ['TTA', 'TTG'], 'TA': ['TAT'], 'GC': ['GCT']}\n",
      "\n",
      "De Bruijn Graph:\n",
      "{'CC': ['TG'], 'CT': ['GA', 'TA', 'GG'], 'TG': ['AT', 'CT'], 'GA': ['TC'], 'AT': ['CT', 'TG'], 'TC': ['TT'], 'TT': ['AT', 'GC'], 'TA': ['TT'], 'GC': ['TG']}\n"
     ]
    }
   ],
   "source": [
    "def generate_kmers_from_string(s, k):\n",
    "    kmers = []\n",
    "    for i in range(len(s) - k + 1):\n",
    "        kmers.append(s[i:i + k])\n",
    "    return kmers\n",
    "\n",
    "def generate_overlap_graph(strings, k):\n",
    "    overlap_graph = {}\n",
    "\n",
    "    for s in strings:\n",
    "        kmers = generate_kmers_from_string(s, k)\n",
    "        suffix = kmers[0][1:]\n",
    "\n",
    "        for kmer in kmers[1:]:\n",
    "            if suffix in overlap_graph:\n",
    "                overlap_graph[suffix].append(kmer)\n",
    "            else:\n",
    "                overlap_graph[suffix] = [kmer]\n",
    "\n",
    "            suffix = kmer[1:]\n",
    "\n",
    "    return overlap_graph\n",
    "\n",
    "def generate_de_bruijn_graph(strings, k):\n",
    "    de_bruijn_graph = {}\n",
    "\n",
    "    for s in strings:\n",
    "        kmers = generate_kmers_from_string(s, k)\n",
    "        prefix = kmers[0][:-1]\n",
    "\n",
    "        for kmer in kmers[1:]:\n",
    "            if prefix in de_bruijn_graph:\n",
    "                de_bruijn_graph[prefix].append(kmer[1:])\n",
    "            else:\n",
    "                de_bruijn_graph[prefix] = [kmer[1:]]\n",
    "\n",
    "            prefix = kmer[:-1]\n",
    "\n",
    "    return de_bruijn_graph\n",
    "\n",
    "# Generating Overlap Graph of 3-mers\n",
    "overlap_graph = generate_overlap_graph(input_strings, 3)\n",
    "print(\"Overlap Graph:\")\n",
    "print(overlap_graph)\n",
    "\n",
    "# Generating De Bruijn Graph of 3-mers\n",
    "de_bruijn_graph = generate_de_bruijn_graph(input_strings, 3)\n",
    "print(\"\\nDe Bruijn Graph:\")\n",
    "print(de_bruijn_graph)\n"
   ]
  },
  {
   "cell_type": "markdown",
   "id": "2e963ead",
   "metadata": {},
   "source": [
    "# Question 2"
   ]
  },
  {
   "cell_type": "code",
   "execution_count": 3,
   "id": "ac162e3d",
   "metadata": {},
   "outputs": [
    {
     "name": "stdout",
     "output_type": "stream",
     "text": [
      "Number of As in the assembled genome: 54873\n",
      "Number of Ts in the assembled genome: 43870\n",
      "Number of Cs in the assembled genome: 44924\n",
      "Number of Gs in the assembled genome: 44433\n",
      "Percentage of As in the assembled genome: 29.17224880382775 %\n",
      "Percentage of Ts in the assembled genome: 23.322700691121746 %\n",
      "Percentage of Cs in the assembled genome: 23.883040935672515 %\n",
      "Percentage of Gs in the assembled genome: 23.62200956937799 %\n"
     ]
    }
   ],
   "source": [
    "from Bio import SeqIO\n",
    "\n",
    "def assemble_reads(file_path):\n",
    "    assembled_genome = ''\n",
    "    with open(file_path, 'r') as file:\n",
    "        for record in SeqIO.parse(file, 'fastq'):\n",
    "            assembled_genome += str(record.seq)\n",
    "    return assembled_genome\n",
    "\n",
    "def count_nucleotides(genome):\n",
    "    a_count = genome.count('A')\n",
    "    t_count = genome.count('T')\n",
    "    c_count = genome.count('C')\n",
    "    g_count = genome.count('G')\n",
    "\n",
    "    total_bases = len(genome)\n",
    "\n",
    "    a_percentage = (a_count / total_bases) * 100\n",
    "    t_percentage = (t_count / total_bases) * 100\n",
    "    c_percentage = (c_count / total_bases) * 100\n",
    "    g_percentage = (g_count / total_bases) * 100\n",
    "\n",
    "    return a_count, t_count, c_count, g_count, a_percentage, t_percentage, c_percentage, g_percentage\n",
    "\n",
    "# Assuming the FASTQ file is in the current working directory and named \"ads1_week4_reads.fq\"\n",
    "file_path = 'ads1_week4_reads.fq'\n",
    "assembled_genome = assemble_reads(file_path)\n",
    "\n",
    "a_count, t_count, c_count, g_count, a_percentage, t_percentage, c_percentage, g_percentage = count_nucleotides(assembled_genome)\n",
    "\n",
    "print(\"Number of As in the assembled genome:\", a_count)\n",
    "print(\"Number of Ts in the assembled genome:\", t_count)\n",
    "print(\"Number of Cs in the assembled genome:\", c_count)\n",
    "print(\"Number of Gs in the assembled genome:\", g_count)\n",
    "\n",
    "print(\"Percentage of As in the assembled genome:\", a_percentage, \"%\")\n",
    "print(\"Percentage of Ts in the assembled genome:\", t_percentage, \"%\")\n",
    "print(\"Percentage of Cs in the assembled genome:\", c_percentage, \"%\")\n",
    "print(\"Percentage of Gs in the assembled genome:\", g_percentage, \"%\")\n"
   ]
  },
  {
   "cell_type": "markdown",
   "id": "3978dea6",
   "metadata": {},
   "source": [
    "# Question 3"
   ]
  },
  {
   "cell_type": "code",
   "execution_count": 9,
   "id": "23a3d489",
   "metadata": {},
   "outputs": [],
   "source": [
    "from Bio import Entrez, SeqIO\n",
    "\n",
    "def download_genbank_file(genbank_code):\n",
    "    Entrez.email = \"arnavg1808@gmail.com\"  # Set your email address\n",
    "    handle = Entrez.efetch(db=\"nucleotide\", id=genbank_code, rettype=\"gb\", retmode=\"text\")\n",
    "    record = SeqIO.read(handle, \"genbank\")\n",
    "    handle.close()\n",
    "    return record.seq\n",
    "\n",
    "# Replace 'U01317.1' with the actual GenBank code you want to download\n",
    "genbank_code = 'U01317.1'\n",
    "sequence = download_genbank_file(genbank_code)\n",
    "#print(sequence)"
   ]
  },
  {
   "cell_type": "code",
   "execution_count": 10,
   "id": "65ff874b",
   "metadata": {},
   "outputs": [
    {
     "name": "stdout",
     "output_type": "stream",
     "text": [
      "Total occurrences of the pattern and its reverse complement: 0\n"
     ]
    }
   ],
   "source": [
    "def count_occurrences(sequence, pattern):\n",
    "    return sequence.count(pattern)\n",
    "\n",
    "def reverse_complement(sequence):\n",
    "    complement_dict = {'A': 'T', 'T': 'A', 'C': 'G', 'G': 'C'}\n",
    "    return ''.join(complement_dict[base] for base in reversed(sequence))\n",
    "\n",
    "pattern = \"CTTAGAACGGAAATCTTAGT\"\n",
    "reverse_complement_pattern = reverse_complement(pattern)\n",
    "\n",
    "occurrences = count_occurrences(sequence, pattern) + count_occurrences(sequence, reverse_complement_pattern)\n",
    "print(\"Total occurrences of the pattern and its reverse complement:\", occurrences)\n"
   ]
  },
  {
   "cell_type": "code",
   "execution_count": 13,
   "id": "fed4ea46",
   "metadata": {},
   "outputs": [
    {
     "name": "stdout",
     "output_type": "stream",
     "text": [
      "Occurrences using Naive exact matching: 0\n",
      "Time taken by Naive exact matching algorithm: 0.19381952285766602 seconds\n",
      "Character comparisons performed by Naive exact matching algorithm: 146578\n"
     ]
    }
   ],
   "source": [
    "def naive_exact_matching(text, pattern):\n",
    "    occurrences = []\n",
    "    comparisons = 0\n",
    "    n = len(text)\n",
    "    m = len(pattern)\n",
    "\n",
    "    for i in range(n - m + 1):\n",
    "        match = True\n",
    "        for j in range(m):\n",
    "            if text[i + j] != pattern[j]:\n",
    "                comparisons += 1\n",
    "                match = False\n",
    "                break\n",
    "        if match:\n",
    "            occurrences.append(i)\n",
    "\n",
    "    return occurrences, comparisons\n",
    "\n",
    "# Time the Naive exact matching algorithm and count character comparisons performed\n",
    "import time\n",
    "\n",
    "start_time = time.time()\n",
    "occurrences_naive, comparisons_naive = naive_exact_matching(sequence, pattern)\n",
    "occurrences_reverse_complement, comparisons_reverse_complement = naive_exact_matching(sequence, reverse_complement_pattern)\n",
    "end_time = time.time()\n",
    "time_taken_naive = end_time - start_time\n",
    "\n",
    "print(\"Occurrences using Naive exact matching:\", len(occurrences_naive) + len(occurrences_reverse_complement))\n",
    "print(\"Time taken by Naive exact matching algorithm:\", time_taken_naive, \"seconds\")\n",
    "print(\"Character comparisons performed by Naive exact matching algorithm:\", comparisons_naive + comparisons_reverse_complement)\n"
   ]
  },
  {
   "cell_type": "markdown",
   "id": "686e69e6",
   "metadata": {},
   "source": [
    "# Question 4"
   ]
  },
  {
   "cell_type": "code",
   "execution_count": 19,
   "id": "5798439b",
   "metadata": {},
   "outputs": [
    {
     "name": "stdout",
     "output_type": "stream",
     "text": [
      "Rat ATP Synthase Subunit gene sequence: TCCAAGATCGAGCGGCGGAAGATTATGGAACAATCCCCGGACATGCACAACGCCGAGATCTCCAAGCGCCTGGGGAAACGCTGGAAAATGCTCAACGACAGCGAGAAAATCCCCTTCATCAGGGAAGCCGAGCGGCTGCGGCTCAAACACATGGCCGACTAC\n"
     ]
    }
   ],
   "source": [
    "from Bio import Entrez, SeqIO\n",
    "\n",
    "def download_gene_sequence(gene_id):\n",
    "    Entrez.email = \"arnavg1808@gmail.comm\"  # Set your email address\n",
    "    handle = Entrez.efetch(db=\"nucleotide\", id=gene_id, rettype=\"gb\", retmode=\"text\")\n",
    "    record = SeqIO.read(handle, \"genbank\")\n",
    "    handle.close()\n",
    "    return record.seq\n",
    "\n",
    "# Replace \"123456\" and \"789012\" with the actual gene IDs for rats and mice, respectively\n",
    "rat_gene_id = \"65262\"\n",
    "mouse_gene_id = \"11946\"\n",
    "\n",
    "# Download the gene sequences for rats and mice\n",
    "rat_gene_sequence = download_gene_sequence(rat_gene_id)\n",
    "#mouse_gene_sequence = download_gene_sequence(mouse_gene_id)\n",
    "\n",
    "print(\"Rat ATP Synthase Subunit gene sequence:\", rat_gene_sequence)\n",
    "#print(\"Mouse ATP Synthase Subunit gene sequence:\", mouse_gene_sequence)\n"
   ]
  },
  {
   "cell_type": "code",
   "execution_count": 20,
   "id": "01f79b66",
   "metadata": {},
   "outputs": [
    {
     "name": "stdout",
     "output_type": "stream",
     "text": [
      "Edit distance (Method 1): 240\n",
      "Edit distance (Method 2): 398\n",
      "Edit distance (Method 3): 334\n",
      "Hamming distance (Method 4): 118\n"
     ]
    }
   ],
   "source": [
    "def calculate_edit_distance(seq1, seq2, transversion_score, transition_score, gap_score):\n",
    "    if len(seq1) > len(seq2):\n",
    "        seq1, seq2 = seq2, seq1\n",
    "\n",
    "    edit_distance = 0\n",
    "    for base1, base2 in zip(seq1, seq2):\n",
    "        if base1 != base2:\n",
    "            if (base1, base2) in [('A', 'G'), ('G', 'A'), ('C', 'T'), ('T', 'C')]:  # Transversions\n",
    "                edit_distance += transversion_score\n",
    "            else:  # Transitions\n",
    "                edit_distance += transition_score\n",
    "\n",
    "    # For remaining characters in the longer sequence\n",
    "    edit_distance += gap_score * (len(seq2) - len(seq1))\n",
    "\n",
    "    return edit_distance\n",
    "\n",
    "# Gene sequences for rats and mice (replace with the actual sequences)\n",
    "gene_rat = \"TCCAAGATCGAGCGGCGGAAGATTATGGAACAATCCCCGGACATGCACAACGCCGAGATCTCCAAGCGCCTGGGGAAACGCTGGAAAATGCTCAACGACAGCGAGAAAATCC\\\n",
    "CCTTCATCAGGGAAGCCGAGCGGCTGCGGCTCAAACACATGGCCGACTAC\"\n",
    "gene_mouse = \"TCCAGTCCCTCGGCGGAAGATTATGGAACAATCCCCGGACATGCACAACGCCGAGATCAGGCCTAAGCGGCTAAAGCGCTGGAAAATGCTCAACGACAGCGAGAAAATCC\\\n",
    "CCTTCATCAGGGAAGCCGAGCGGCTGCGGCTCAAACACATGGCCGACTAC\"\n",
    "\n",
    "# Method 1: Transversions are given score of 2, transitions of 2, gaps are given score of 2\n",
    "edit_distance_method1 = calculate_edit_distance(gene_rat, gene_mouse, transversion_score=2, transition_score=2, gap_score=2)\n",
    "\n",
    "# Method 2: Transversions are given score of 2, transitions of 4, gaps are given score of 4\n",
    "edit_distance_method2 = calculate_edit_distance(gene_rat, gene_mouse, transversion_score=2, transition_score=4, gap_score=4)\n",
    "\n",
    "# Method 3: Transversions are given score of 4, transitions of 2, gaps are given score of 8\n",
    "edit_distance_method3 = calculate_edit_distance(gene_rat, gene_mouse, transversion_score=4, transition_score=2, gap_score=8)\n",
    "\n",
    "# Method 4: Find the hamming distance between the two (splice the larger string to take the first n elements)\n",
    "shorter_length = min(len(gene_rat), len(gene_mouse))\n",
    "hamming_distance = sum(base1 != base2 for base1, base2 in zip(gene_rat[:shorter_length], gene_mouse[:shorter_length]))\n",
    "\n",
    "print(\"Edit distance (Method 1):\", edit_distance_method1)\n",
    "print(\"Edit distance (Method 2):\", edit_distance_method2)\n",
    "print(\"Edit distance (Method 3):\", edit_distance_method3)\n",
    "print(\"Hamming distance (Method 4):\", hamming_distance)\n"
   ]
  },
  {
   "cell_type": "markdown",
   "id": "f11085ee",
   "metadata": {},
   "source": [
    "# Question 5"
   ]
  },
  {
   "cell_type": "code",
   "execution_count": 21,
   "id": "29d02999",
   "metadata": {},
   "outputs": [],
   "source": [
    "from Bio import Entrez, SeqIO\n",
    "\n",
    "def download_cds_file(accession_number):\n",
    "    Entrez.email = \"arnavg1808@gmail.com\"  # Set your email address\n",
    "    handle = Entrez.efetch(db=\"nucleotide\", id=accession_number, rettype=\"gb\", retmode=\"text\")\n",
    "    record = SeqIO.read(handle, \"genbank\")\n",
    "    handle.close()\n",
    "    return record\n",
    "\n",
    "# Replace 'NC_045512.2' with the actual accession number of the coronavirus genome\n",
    "accession_number = 'NC_045512.2'\n",
    "coronavirus_record = download_cds_file(accession_number)\n"
   ]
  },
  {
   "cell_type": "code",
   "execution_count": 23,
   "id": "4fae11f7",
   "metadata": {},
   "outputs": [
    {
     "name": "stdout",
     "output_type": "stream",
     "text": [
      "Gene Name: ORF1ab\n",
      "Gene Name: ORF1ab\n",
      "Gene Name: S\n",
      "Gene Name: ORF3a\n",
      "Gene Name: E\n",
      "Gene Name: M\n",
      "Gene Name: ORF6\n",
      "Gene Name: ORF7a\n",
      "Gene Name: ORF7b\n",
      "Gene Name: ORF8\n",
      "Gene Name: N\n",
      "Gene Name: ORF10\n"
     ]
    }
   ],
   "source": [
    "def print_cds_features(record):\n",
    "    for feature in record.features:\n",
    "        if feature.type == \"CDS\":\n",
    "            gene_name = feature.qualifiers.get(\"gene\", [\"Unknown Gene\"])[0]\n",
    "            print(\"Gene Name:\", gene_name)\n",
    "\n",
    "# Print all CDS features and their gene names\n",
    "print_cds_features(coronavirus_record)\n"
   ]
  },
  {
   "cell_type": "code",
   "execution_count": 24,
   "id": "ba209dc0",
   "metadata": {},
   "outputs": [
    {
     "name": "stdout",
     "output_type": "stream",
     "text": [
      "Helicase DNA sequence: ATGGGCTATATAAACGTTTTCGCTTTTCCGTTTACGATATATAGTCTACTCTTGTGCAGAATGAATTCTCGTAACTACATAGCACAAGTAGATGTAGTTAACTTTAATCTCACATAG\n",
      "Reverse complement of Helicase DNA sequence: CTATGTGAGATTAAAGTTAACTACATCTACTTGTGCTATGTAGTTACGAGAATTCATTCTGCACAAGAGTAGACTATATATCGTAAACGGAAAAGCGAAAACGTTTATATAGCCCAT\n"
     ]
    }
   ],
   "source": [
    "def extract_gene_sequence(record, gene_name):\n",
    "    for feature in record.features:\n",
    "        if feature.type == \"CDS\" and \"gene\" in feature.qualifiers and feature.qualifiers[\"gene\"][0] == gene_name:\n",
    "            return feature.location.extract(record.seq)\n",
    "\n",
    "# Replace \"ORF10\" with the correct gene name for the helicase enzyme\n",
    "helicase_gene_name = \"ORF10\"\n",
    "\n",
    "# Extract the DNA sequence of the helicase enzyme and its reverse complement\n",
    "helicase_dna_sequence = extract_gene_sequence(coronavirus_record, helicase_gene_name)\n",
    "reverse_complement_helicase_dna_sequence = helicase_dna_sequence.reverse_complement()\n",
    "\n",
    "print(\"Helicase DNA sequence:\", helicase_dna_sequence)\n",
    "print(\"Reverse complement of Helicase DNA sequence:\", reverse_complement_helicase_dna_sequence)\n"
   ]
  },
  {
   "cell_type": "code",
   "execution_count": 25,
   "id": "b2c9effe",
   "metadata": {},
   "outputs": [
    {
     "name": "stdout",
     "output_type": "stream",
     "text": [
      "Are the assembled sequences the same?\n",
      "False\n"
     ]
    }
   ],
   "source": [
    "def divide_into_k_mers(sequence, k):\n",
    "    return [sequence[i:i + k] for i in range(len(sequence) - k + 1)]\n",
    "\n",
    "orf7a_sequence = extract_protein_sequence(coronavirus_record, \"ORF7a\")\n",
    "k_mers_8 = divide_into_k_mers(orf7a_sequence, 8)\n",
    "k_mers_9 = divide_into_k_mers(orf7a_sequence, 9)\n",
    "k_mers_10 = divide_into_k_mers(orf7a_sequence, 10)\n",
    "k_mers_11 = divide_into_k_mers(orf7a_sequence, 11)\n",
    "k_mers_12 = divide_into_k_mers(orf7a_sequence, 12)\n",
    "\n",
    "assembled_8_mers = \"\".join(k_mers_8)\n",
    "assembled_9_mers = \"\".join(k_mers_9)\n",
    "assembled_10_mers = \"\".join(k_mers_10)\n",
    "assembled_11_mers = \"\".join(k_mers_11)\n",
    "assembled_12_mers = \"\".join(k_mers_12)\n",
    "\n",
    "print(\"Are the assembled sequences the same?\")\n",
    "print(assembled_8_mers == assembled_9_mers == assembled_10_mers == assembled_11_mers == assembled_12_mers)\n"
   ]
  },
  {
   "cell_type": "code",
   "execution_count": 28,
   "id": "749bff1d",
   "metadata": {},
   "outputs": [
    {
     "name": "stdout",
     "output_type": "stream",
     "text": [
      "Matches of the 20 random 15-mers in RNA-dependent RNA polymerase gene:\n",
      "[[], [(19980, 2)], [], [], [], [], [], [], [(16144, 1)], [], [], [], [], [], [], [(15669, 1)], [], [], [], []]\n"
     ]
    }
   ],
   "source": [
    "def extract_gene_sequence(record, gene_name):\n",
    "    for feature in record.features:\n",
    "        if feature.type == \"CDS\" and \"gene\" in feature.qualifiers and feature.qualifiers[\"gene\"][0] == gene_name:\n",
    "            return feature.location.extract(record.seq)\n",
    "\n",
    "# Replace \"S\" with the correct gene name for the surface glycoprotein (spike) gene\n",
    "surface_glycoprotein_gene_name = \"S\"\n",
    "\n",
    "# Extract the DNA sequence of the surface glycoprotein (spike) gene\n",
    "surface_glycoprotein_sequence = extract_gene_sequence(coronavirus_record, surface_glycoprotein_gene_name)\n",
    "\n",
    "# Generate 20 random 15-mers from the surface glycoprotein gene\n",
    "import random\n",
    "\n",
    "random.seed(42)\n",
    "random_15_mers = [surface_glycoprotein_sequence[i:i + 15] for i in random.sample(range(len(surface_glycoprotein_sequence) - 15 + 1), 20)]\n",
    "\n",
    "# Perform naive exact matching with two mismatches against the RNA-dependent RNA polymerase gene\n",
    "rna_polymerase_gene_name = \"ORF1ab\"\n",
    "rna_polymerase_sequence = extract_gene_sequence(coronavirus_record, rna_polymerase_gene_name)\n",
    "\n",
    "def naive_exact_matching_with_mismatches(text, pattern, max_mismatches):\n",
    "    matches = []\n",
    "    n = len(text)\n",
    "    m = len(pattern)\n",
    "\n",
    "    for i in range(n - m + 1):\n",
    "        mismatches = sum(text[i + j] != pattern[j] for j in range(m))\n",
    "        if mismatches <= max_mismatches:\n",
    "            matches.append((i, mismatches))\n",
    "\n",
    "    return matches\n",
    "\n",
    "# Perform naive exact matching with two mismatches for each random 15-mer\n",
    "random_matches = [naive_exact_matching_with_mismatches(rna_polymerase_sequence, random_15_mer, 2) for random_15_mer in random_15_mers]\n",
    "\n",
    "print(\"Matches of the 20 random 15-mers in RNA-dependent RNA polymerase gene:\")\n",
    "print(random_matches)\n"
   ]
  },
  {
   "cell_type": "markdown",
   "id": "4e7f88da",
   "metadata": {},
   "source": [
    "# Question 6\n"
   ]
  },
  {
   "cell_type": "markdown",
   "id": "02788637",
   "metadata": {},
   "source": [
    "https://drive.google.com/file/d/11cL9JyljKuSdk2IXQiGmTF6QX-7YzNzc/view?usp=sharing"
   ]
  }
 ],
 "metadata": {
  "kernelspec": {
   "display_name": "Python 3 (ipykernel)",
   "language": "python",
   "name": "python3"
  },
  "language_info": {
   "codemirror_mode": {
    "name": "ipython",
    "version": 3
   },
   "file_extension": ".py",
   "mimetype": "text/x-python",
   "name": "python",
   "nbconvert_exporter": "python",
   "pygments_lexer": "ipython3",
   "version": "3.8.10"
  }
 },
 "nbformat": 4,
 "nbformat_minor": 5
}
